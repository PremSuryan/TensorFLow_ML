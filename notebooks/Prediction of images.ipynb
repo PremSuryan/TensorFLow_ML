{
 "cells": [
  {
   "cell_type": "code",
   "execution_count": null,
   "metadata": {},
   "outputs": [],
   "source": [
    "import numpy as np\n",
    "from numpy import asarray\n",
    "import pandas as pd\n",
    "import glob\n",
    "import os\n",
    "import matplotlib.pyplot as plt\n",
    "\n",
    "from keras.models import load_model\n",
    "from sklearn import preprocessing\n",
    "\n",
    "import tensorflow as tf\n",
    "from tensorflow.keras.preprocessing.image import ImageDataGenerator\n",
    "\n",
    "import cv2\n",
    "import random"
   ]
  },
  {
   "cell_type": "code",
   "execution_count": null,
   "metadata": {},
   "outputs": [],
   "source": [
    "tf.__version__"
   ]
  },
  {
   "cell_type": "code",
   "execution_count": null,
   "metadata": {},
   "outputs": [],
   "source": [
    "# avoid tensorflow to get all gpu memory\n",
    "physical_devices = tf.config.list_physical_devices('GPU')\n",
    "try:\n",
    "    for gpu in physical_devices:\n",
    "        tf.config.experimental.set_memory_growth(gpu, True)\n",
    "except:\n",
    "    logger.info('error accessing gpu devices...')\n",
    "    pass"
   ]
  },
  {
   "cell_type": "code",
   "execution_count": null,
   "metadata": {},
   "outputs": [],
   "source": [
    "root_train = '../data/raw/vehicle/train/train/'"
   ]
  },
  {
   "cell_type": "code",
   "execution_count": null,
   "metadata": {},
   "outputs": [],
   "source": [
    "data_train = []"
   ]
  },
  {
   "cell_type": "code",
   "execution_count": null,
   "metadata": {},
   "outputs": [],
   "source": [
    "for category in sorted(os.listdir(root_train)):\n",
    "    for file in sorted(os.listdir(os.path.join(root_train, category))):\n",
    "        data_train.append((category, os.path.join(root_train, category, file)))"
   ]
  },
  {
   "cell_type": "code",
   "execution_count": null,
   "metadata": {},
   "outputs": [],
   "source": [
    "train_df = pd.DataFrame(data_train, columns=['classes','file_path']).sample(frac=1.0)\n",
    "train_df.head()"
   ]
  },
  {
   "cell_type": "code",
   "execution_count": null,
   "metadata": {},
   "outputs": [],
   "source": [
    "cols=train_df['classes'].unique()\n",
    "cols"
   ]
  },
  {
   "cell_type": "code",
   "execution_count": null,
   "metadata": {},
   "outputs": [],
   "source": [
    "print(\"=\"*70)\n",
    "print(\"Displaying 4 random image per vehicle category\")\n",
    "print(\"=\"*70)\n",
    "\n",
    "# for every category in `cols`\n",
    "for j in range(15):\n",
    "    plt.figure(j)\n",
    "    plt.figure(figsize=(20,20))\n",
    "    \n",
    "    # 4 images per every vehicle\n",
    "    for i in range(4):\n",
    "        id = \"14{}\".format(i+1)\n",
    "        plt.subplot(int(id))\n",
    "        random_file = random.choice(os.listdir(root_train + cols[j] + \"/\"))\n",
    "        img = cv2.imread(root_train + cols[j] + \"/\" + random_file)\n",
    "        plt.title(cols[j])\n",
    "        plt.imshow(img)\n",
    "plt.show()"
   ]
  },
  {
   "cell_type": "code",
   "execution_count": null,
   "metadata": {},
   "outputs": [],
   "source": [
    "root_test = '../data/raw/vehicle/test/proof/'"
   ]
  },
  {
   "cell_type": "code",
   "execution_count": null,
   "metadata": {},
   "outputs": [],
   "source": [
    "data_test = []\n",
    "id_line = []"
   ]
  },
  {
   "cell_type": "code",
   "execution_count": null,
   "metadata": {},
   "outputs": [],
   "source": [
    "count = 0\n",
    "for file in sorted(os.listdir(os.path.join(root_test))):\n",
    "    data_test.append((os.path.join(root_test, file)))\n",
    "    id_line.append(count)\n",
    "    count += 1"
   ]
  },
  {
   "cell_type": "code",
   "execution_count": null,
   "metadata": {},
   "outputs": [],
   "source": [
    "test_df = pd.DataFrame(data_test, columns=['file_path'])\n",
    "test_df.head()"
   ]
  },
  {
   "cell_type": "code",
   "execution_count": null,
   "metadata": {},
   "outputs": [],
   "source": [
    "test_generator = ImageDataGenerator(rescale=1. / 255.)"
   ]
  },
  {
   "cell_type": "code",
   "execution_count": null,
   "metadata": {},
   "outputs": [],
   "source": [
    "predict_generator = test_generator.flow_from_dataframe(\n",
    "    dataframe=test_df,\n",
    "    x_col='file_path',\n",
    "    y_col=None,\n",
    "    batch_size=32,\n",
    "    shuffle=False,\n",
    "    class_mode=None,\n",
    "    target_size= (224, 224))"
   ]
  },
  {
   "cell_type": "markdown",
   "metadata": {},
   "source": [
    "### Testing with ResNet50 model"
   ]
  },
  {
   "cell_type": "code",
   "execution_count": null,
   "metadata": {},
   "outputs": [],
   "source": [
    "name = 'complete_model_sequential.h5'"
   ]
  },
  {
   "cell_type": "code",
   "execution_count": null,
   "metadata": {},
   "outputs": [],
   "source": [
    "network = load_model(f'../data/results/{name}')"
   ]
  },
  {
   "cell_type": "code",
   "execution_count": null,
   "metadata": {},
   "outputs": [],
   "source": [
    "network.summary()"
   ]
  },
  {
   "cell_type": "code",
   "execution_count": null,
   "metadata": {},
   "outputs": [],
   "source": [
    "steps = len(test_df) // 2"
   ]
  },
  {
   "cell_type": "code",
   "execution_count": null,
   "metadata": {},
   "outputs": [],
   "source": [
    "proof = np.array(network.predict(predict_generator,\n",
    "                                steps = steps,\n",
    "                                verbose = 1,\n",
    "                                workers = 10,\n",
    "                                max_queue_size = 64))"
   ]
  },
  {
   "cell_type": "code",
   "execution_count": null,
   "metadata": {},
   "outputs": [],
   "source": [
    "label_names = ['Ambulance','Bicycle','Boat','Bus','Car','Helicopter','Limousine',\n",
    "               'Motorcycle','PickUp','Segway','Snowmobile','Tank','Taxi','Truck','Van']"
   ]
  },
  {
   "cell_type": "markdown",
   "metadata": {},
   "source": [
    "#### testing one image"
   ]
  },
  {
   "cell_type": "code",
   "execution_count": null,
   "metadata": {},
   "outputs": [],
   "source": [
    "test_df.iloc[0]"
   ]
  },
  {
   "cell_type": "code",
   "execution_count": null,
   "metadata": {},
   "outputs": [],
   "source": [
    "simulation = proof[0]\n",
    "print(simulation)"
   ]
  },
  {
   "cell_type": "code",
   "execution_count": null,
   "metadata": {},
   "outputs": [],
   "source": [
    "classes = np.argmax(simulation, axis = 0)\n",
    "print(classes)"
   ]
  },
  {
   "cell_type": "code",
   "execution_count": null,
   "metadata": {},
   "outputs": [],
   "source": [
    "label_names[0]"
   ]
  },
  {
   "cell_type": "markdown",
   "metadata": {},
   "source": [
    "#### testing the whole dataset"
   ]
  },
  {
   "cell_type": "code",
   "execution_count": null,
   "metadata": {},
   "outputs": [],
   "source": [
    "class_names = []\n",
    "for j in range(len(test_df)):\n",
    "    b = np.argmax(proof[j], axis = 0)\n",
    "    class_names.append(label_names[b])"
   ]
  },
  {
   "cell_type": "code",
   "execution_count": null,
   "metadata": {},
   "outputs": [],
   "source": [
    "class_names"
   ]
  },
  {
   "cell_type": "markdown",
   "metadata": {},
   "source": [
    "#### Plot the images with predicted label"
   ]
  },
  {
   "cell_type": "code",
   "execution_count": null,
   "metadata": {},
   "outputs": [],
   "source": [
    "root_test = \"../data/raw/vehicle/test/proof\""
   ]
  },
  {
   "cell_type": "code",
   "execution_count": null,
   "metadata": {},
   "outputs": [],
   "source": [
    "import matplotlib.image as mpimg"
   ]
  },
  {
   "cell_type": "code",
   "execution_count": null,
   "metadata": {
    "scrolled": true
   },
   "outputs": [],
   "source": [
    "directory=sorted(os.listdir(root_test))\n",
    "i=0\n",
    "for each in directory:\n",
    "    plt.figure(figsize=(8,8))\n",
    "    img=mpimg.imread(f\"../data/raw/vehicle/test/proof/{each}\")\n",
    "    imgplot = plt.imshow(img)\n",
    "    plt.title(class_names[i])\n",
    "    i+=1\n",
    "plt.show()"
   ]
  },
  {
   "cell_type": "markdown",
   "metadata": {},
   "source": [
    "### Testing with mobileNetV2 model"
   ]
  },
  {
   "cell_type": "code",
   "execution_count": null,
   "metadata": {},
   "outputs": [],
   "source": [
    "name2 = 'complete_model_model.h5'"
   ]
  },
  {
   "cell_type": "code",
   "execution_count": null,
   "metadata": {},
   "outputs": [],
   "source": [
    "network2 = load_model(f'../data/results/{name2}')"
   ]
  },
  {
   "cell_type": "code",
   "execution_count": null,
   "metadata": {},
   "outputs": [],
   "source": [
    "network2.summary()"
   ]
  },
  {
   "cell_type": "code",
   "execution_count": null,
   "metadata": {},
   "outputs": [],
   "source": [
    "proof2 = np.array(network2.predict(predict_generator,\n",
    "                                   steps = steps,\n",
    "                                   verbose = 1,\n",
    "                                   workers = 10,\n",
    "                                   max_queue_size = 64))"
   ]
  },
  {
   "cell_type": "code",
   "execution_count": null,
   "metadata": {},
   "outputs": [],
   "source": [
    "class_names2 = []\n",
    "for j in range(len(test_df)):\n",
    "    b = np.argmax(proof2[j], axis = 0)\n",
    "    class_names2.append(label_names[b])"
   ]
  },
  {
   "cell_type": "code",
   "execution_count": null,
   "metadata": {},
   "outputs": [],
   "source": [
    "class_names2"
   ]
  },
  {
   "cell_type": "code",
   "execution_count": null,
   "metadata": {},
   "outputs": [],
   "source": [
    "root_test = \"../data/raw/vehicle/test/proof\""
   ]
  },
  {
   "cell_type": "code",
   "execution_count": null,
   "metadata": {},
   "outputs": [],
   "source": [
    "import matplotlib.image as mpimg"
   ]
  },
  {
   "cell_type": "code",
   "execution_count": null,
   "metadata": {},
   "outputs": [],
   "source": [
    "directory=sorted(os.listdir(root_test))\n",
    "i=0\n",
    "for each in directory:\n",
    "    plt.figure(figsize=(8,8))\n",
    "    img=mpimg.imread(f\"../data/raw/vehicle/test/proof/{each}\")\n",
    "    plt.imshow(img)\n",
    "    plt.title(class_names2[i])\n",
    "    i+=1\n",
    "plt.show()"
   ]
  },
  {
   "cell_type": "code",
   "execution_count": null,
   "metadata": {},
   "outputs": [],
   "source": [
    "directory"
   ]
  },
  {
   "cell_type": "markdown",
   "metadata": {},
   "source": [
    "### Plot the predictions"
   ]
  },
  {
   "cell_type": "markdown",
   "metadata": {},
   "source": [
    "#### convert the image into array"
   ]
  },
  {
   "cell_type": "code",
   "execution_count": null,
   "metadata": {},
   "outputs": [],
   "source": [
    "img_data = asarray(img)"
   ]
  },
  {
   "cell_type": "code",
   "execution_count": null,
   "metadata": {},
   "outputs": [],
   "source": [
    "img_data = img_data / 255"
   ]
  },
  {
   "cell_type": "code",
   "execution_count": null,
   "metadata": {},
   "outputs": [],
   "source": [
    "img_data=cv2.resize(img_data,(255,255))"
   ]
  },
  {
   "cell_type": "markdown",
   "metadata": {},
   "source": [
    "#### convert the labels into array"
   ]
  },
  {
   "cell_type": "code",
   "execution_count": null,
   "metadata": {},
   "outputs": [],
   "source": [
    "le = preprocessing.LabelEncoder()"
   ]
  },
  {
   "cell_type": "code",
   "execution_count": null,
   "metadata": {},
   "outputs": [],
   "source": [
    "le.fit(class_names2)"
   ]
  },
  {
   "cell_type": "code",
   "execution_count": null,
   "metadata": {},
   "outputs": [],
   "source": [
    "le.classes_"
   ]
  },
  {
   "cell_type": "code",
   "execution_count": null,
   "metadata": {},
   "outputs": [],
   "source": [
    "label_data=le.transform(class_names2)\n",
    "label_data"
   ]
  },
  {
   "cell_type": "code",
   "execution_count": null,
   "metadata": {},
   "outputs": [],
   "source": [
    "# le.inverse_transform(label_data)"
   ]
  },
  {
   "cell_type": "code",
   "execution_count": null,
   "metadata": {},
   "outputs": [],
   "source": [
    "def plot_image_pred(images: str,\n",
    "                    labels: np.ndarray,\n",
    "                    preds: np.ndarray,\n",
    "                    indexes: list,\n",
    "                    class_names: list = None, \n",
    "                    figsize: tuple = (8, 4)):\n",
    "            \n",
    "        for index in indexes:\n",
    "        \n",
    "            predicted_probas = preds[index]\n",
    "            true_index = labels[index]\n",
    "            predicted_index = np.argmax(predicted_probas)\n",
    "            \n",
    "            if class_names:\n",
    "                true_class = class_names[true_index]\n",
    "                predicted_class = class_names[predicted_index]\n",
    "\n",
    "            fig, axes = plt.subplots(ncols=2, nrows=1, figsize=figsize)\n",
    "\n",
    "            directory=sorted(os.listdir(root_test))\n",
    "            axes[0].imshow(mpimg.imread(f\"../data/raw/vehicle/test/proof/{directory[index]}\"));\n",
    "            axes[0].axis('off')\n",
    "            axes[0].set_title(f\"predicted class: {predicted_class if class_names else predicted_index}\", \n",
    "                              color='blue' if true_index == predicted_index else 'red')\n",
    "\n",
    "            axes[1].barh(class_names if class_names else [str(i) for i in range(len(predicted_probas))],\n",
    "                         predicted_probas, \n",
    "                         color='black')\n",
    "            axes[1].get_children()[predicted_index].set_color('red')\n",
    "            axes[1].get_children()[true_index].set_color('blue')\n",
    "            axes[1].set_xlim(0, 1)\n",
    "            axes[1].set_title(\"class probabilities\")\n",
    "            axes[1].set_xlabel(\"probability\")\n",
    "            axes[1].set_ylabel(\"class name\")\n",
    "\n",
    "\n",
    "            plt.tight_layout()\n",
    "            plt.show()"
   ]
  },
  {
   "cell_type": "code",
   "execution_count": null,
   "metadata": {},
   "outputs": [],
   "source": [
    "plot_image_pred(root_test,\n",
    "                label_data,\n",
    "                proof2, \n",
    "                indexes=[20,21,22,23,24,25,26,27,28,19], \n",
    "                class_names=label_names)"
   ]
  },
  {
   "cell_type": "code",
   "execution_count": null,
   "metadata": {},
   "outputs": [],
   "source": []
  }
 ],
 "metadata": {
  "kernelspec": {
   "display_name": "Python [conda env:ironhack_env]",
   "language": "python",
   "name": "conda-env-ironhack_env-py"
  },
  "language_info": {
   "codemirror_mode": {
    "name": "ipython",
    "version": 3
   },
   "file_extension": ".py",
   "mimetype": "text/x-python",
   "name": "python",
   "nbconvert_exporter": "python",
   "pygments_lexer": "ipython3",
   "version": "3.7.6"
  }
 },
 "nbformat": 4,
 "nbformat_minor": 4
}
